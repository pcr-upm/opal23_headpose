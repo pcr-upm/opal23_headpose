{
 "cells": [
  {
   "cell_type": "markdown",
   "source": [
    "# Head Pose Estimation Prediction Alignment\n",
    "\n",
    "<a target=\"_blank\" href=\"https://colab.research.google.com/github/pcr-upm/opal23_headpose/blob/main/notebooks/align_predictions.ipynb\">\n",
    "  <img src=\"https://colab.research.google.com/assets/colab-badge.svg\" alt=\"Open In Colab\"/>\n",
    "</a>\n",
    "\n",
    "This notebook shows how to use our alignment code to remove systematic errors from network predictions on cross-dataset benchmarks."
   ],
   "metadata": {
    "collapsed": false
   },
   "id": "bdbc6646180a9383"
  },
  {
   "cell_type": "markdown",
   "source": [
    "Download evaluation code"
   ],
   "metadata": {
    "collapsed": false
   },
   "id": "c54b196cf9ce2303"
  },
  {
   "cell_type": "code",
   "outputs": [
    {
     "name": "stdout",
     "output_type": "stream",
     "text": [
      "--2024-01-19 12:33:38--  https://raw.githubusercontent.com/pcr-upm/opal23_headpose/main/test/evaluator.py\r\n",
      "Resolving raw.githubusercontent.com (raw.githubusercontent.com)... 185.199.110.133, 185.199.109.133, 185.199.111.133, ...\r\n",
      "Connecting to raw.githubusercontent.com (raw.githubusercontent.com)|185.199.110.133|:443... connected.\r\n",
      "HTTP request sent, awaiting response... 200 OK\r\n",
      "Length: 4565 (4.5K) [text/plain]\r\n",
      "Saving to: ‘evaluator.py’\r\n",
      "\r\n",
      "evaluator.py        100%[===================>]   4.46K  --.-KB/s    in 0s      \r\n",
      "\r\n",
      "2024-01-19 12:33:39 (51.9 MB/s) - ‘evaluator.py’ saved [4565/4565]\r\n",
      "\r\n"
     ]
    }
   ],
   "source": [
    "!wget -nc https://raw.githubusercontent.com/pcr-upm/opal23_headpose/main/test/evaluator.py"
   ],
   "metadata": {
    "collapsed": true,
    "ExecuteTime": {
     "end_time": "2024-01-19T11:33:39.252397089Z",
     "start_time": "2024-01-19T11:33:38.368555189Z"
    }
   },
   "id": "initial_id",
   "execution_count": 1
  },
  {
   "cell_type": "code",
   "outputs": [],
   "source": [
    "import numpy as np\n",
    "from scipy.spatial.transform import Rotation\n",
    "\n",
    "from evaluator import Evaluator\n",
    "\n",
    "np.random.seed(0)"
   ],
   "metadata": {
    "collapsed": false,
    "ExecuteTime": {
     "end_time": "2024-01-19T11:33:39.595095570Z",
     "start_time": "2024-01-19T11:33:39.259528087Z"
    }
   },
   "id": "4b87e44529a4a11e",
   "execution_count": 2
  },
  {
   "cell_type": "markdown",
   "source": [
    "Create some random annotations and simulate network prediction errors and systematic alignment errors"
   ],
   "metadata": {
    "collapsed": false
   },
   "id": "9950af1abe21350c"
  },
  {
   "cell_type": "code",
   "outputs": [
    {
     "name": "stdout",
     "output_type": "stream",
     "text": [
      "Sample annotation [ 5.85762047 25.82272396 12.33160513]\n",
      "Sample prediction [12.35355223 24.8916     14.69210784]\n",
      "Alignment error [1.09454347 2.65418735 0.81098038]\n"
     ]
    }
   ],
   "source": [
    "# Create sample annotations in the range [-60, 60]\n",
    "ann_euler = np.random.rand(1000, 3) * 120 - 60\n",
    "\n",
    "# Assume network predictions add some gaussian noise\n",
    "pred_euler = ann_euler + np.random.normal(loc=0.0, scale=3.0, size=ann_euler.shape)\n",
    "\n",
    "# Add systematic noise to simulate cross-dataset alignment errors\n",
    "alignment_error = np.random.rand(3) * 10 - 5\n",
    "pred_euler += alignment_error\n",
    "\n",
    "print('Sample annotation', ann_euler[0])\n",
    "print('Sample prediction', pred_euler[0])\n",
    "print('Alignment error', alignment_error)"
   ],
   "metadata": {
    "collapsed": false,
    "ExecuteTime": {
     "end_time": "2024-01-19T11:33:39.597879031Z",
     "start_time": "2024-01-19T11:33:39.593618183Z"
    }
   },
   "id": "86e1fa5379be3830",
   "execution_count": 3
  },
  {
   "cell_type": "code",
   "outputs": [
    {
     "name": "stdout",
     "output_type": "stream",
     "text": [
      "Unaligned results:\n",
      "MAE 2.742214109828782\n",
      "GE 5.41753466733105\n"
     ]
    }
   ],
   "source": [
    "# Compute metrics\n",
    "ann_matrix= Rotation.from_euler('XYZ', ann_euler, degrees=True).as_matrix()\n",
    "pred_matrix = Rotation.from_euler('XYZ', pred_euler, degrees=True).as_matrix()\n",
    "\n",
    "evaluator = Evaluator(ann_matrix, pred_matrix)\n",
    "print('Unaligned results:')\n",
    "print('MAE', np.mean(evaluator.compute_mae()))\n",
    "print('GE', np.mean(evaluator.compute_ge()))"
   ],
   "metadata": {
    "collapsed": false,
    "ExecuteTime": {
     "end_time": "2024-01-19T11:33:39.760204270Z",
     "start_time": "2024-01-19T11:33:39.600152082Z"
    }
   },
   "id": "d7234cb18e47b8b4",
   "execution_count": 4
  },
  {
   "cell_type": "markdown",
   "source": [
    "Prediction alignment can be done with a single line of code"
   ],
   "metadata": {
    "collapsed": false
   },
   "id": "98ec77eee3073b6e"
  },
  {
   "cell_type": "code",
   "outputs": [
    {
     "name": "stdout",
     "output_type": "stream",
     "text": [
      "Aligned results:\n",
      "MAE 2.5736892090096606\n",
      "GE 4.931510920290861\n"
     ]
    }
   ],
   "source": [
    "evaluator.align_predictions()\n",
    "print('Aligned results:')\n",
    "print('MAE', np.mean(evaluator.compute_mae()))\n",
    "print('GE', np.mean(evaluator.compute_ge()))"
   ],
   "metadata": {
    "collapsed": false,
    "ExecuteTime": {
     "end_time": "2024-01-19T11:33:40.186458114Z",
     "start_time": "2024-01-19T11:33:39.763382998Z"
    }
   },
   "id": "7fafe8ca27ec84aa",
   "execution_count": 5
  }
 ],
 "metadata": {
  "kernelspec": {
   "display_name": "Python 3",
   "language": "python",
   "name": "python3"
  },
  "language_info": {
   "codemirror_mode": {
    "name": "ipython",
    "version": 2
   },
   "file_extension": ".py",
   "mimetype": "text/x-python",
   "name": "python",
   "nbconvert_exporter": "python",
   "pygments_lexer": "ipython2",
   "version": "2.7.6"
  }
 },
 "nbformat": 4,
 "nbformat_minor": 5
}
